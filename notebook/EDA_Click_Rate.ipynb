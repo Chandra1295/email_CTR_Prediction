{
 "cells": [
  {
   "cell_type": "code",
   "execution_count": 3,
   "metadata": {},
   "outputs": [],
   "source": []
  },
  {
   "cell_type": "markdown",
   "metadata": {},
   "source": []
  },
  {
   "cell_type": "markdown",
   "metadata": {},
   "source": [
    "### 1) Problem statement\n",
    "- To enhance the success of email campaigns, we aim to predict the Click Through Rate (CTR). CTR is the ratio of users who clicked on a Call to Action (CTA) to the number of emails delivered. Our goal is to create a smart system that predicts CTR, helping the marketing team identify crucial factors for maximizing user engagement.\n",
    "\n",
    "    Train and Test Set\n",
    "    Train and Test set contains different sets of email campaigns containing information about the email campaign. Train set includes the target variable click_rate and you need to predict the click_rate of an email campaign in the test set.\n",
    "\n",
    "    Variable - Description\n",
    "\n",
    "    campaign_id - Unique identifier of a campaign\n",
    "\n",
    "    sender - Sender of an e-mail\n",
    "\n",
    "    subject_len - No. of characters in a subject\n",
    "\n",
    "    body_len - No. of characters in an email body\n",
    "\n",
    "    mean_paragraph_len - Average no. of characters in paragraph of an email\n",
    "\n",
    "    day_of_week - Day on which email is sent\n",
    "\n",
    "    is_weekend - Boolean flag indicating if an email is sent on weekend or not\n",
    "\n",
    "    times_of_day - Times of day when email is sent: Morning, Noon, Evening\n",
    "\n",
    "    category - Category of the product an email is related to\n",
    "\n",
    "    product - Type of the product an email is related to\n",
    "\n",
    "    no_of_CTA - No. of Call To Actions in an email\n",
    "\n",
    "    mean_CTA_len - Average no. of characters in a CTA\n",
    "\n",
    "    is_image - No. of images in an email\n",
    "\n",
    "    is_personalised - Boolean flag indicating if an email is personalized to the user or not\n",
    "\n",
    "    is_quote - No. of quotes in an email\n",
    "\n",
    "    is_timer - Boolean flag indicating if an email contains a timer or not\n",
    "\n",
    "    is_emoticons - No. of emoticons in an email\n",
    "\n",
    "    is_discount - Boolean flag indicating if an email contains a discount or not\n",
    "\n",
    "    is_price - Boolean flag indicating if an email contains price or not\n",
    "\n",
    "    is_urgency - Boolean flag indicating if an email contains urgency or not\n",
    "\n",
    "    target_audience - Cluster label of the target audience\n",
    "\n",
    "    click_rate (Target Variable) - Click rate of an email campaign"
   ]
  },
  {
   "cell_type": "markdown",
   "metadata": {},
   "source": [
    "### 2) Data Collection\n",
    "- Dataset Source - https://www.kaggle.com/code/parisrohan/click-through-rate-prediction/input"
   ]
  },
  {
   "cell_type": "markdown",
   "metadata": {},
   "source": [
    "###  Import Data and Required Packages\n"
   ]
  },
  {
   "cell_type": "markdown",
   "metadata": {},
   "source": [
    "####  Importing Pandas, Numpy, Matplotlib, Seaborn and Warings Library."
   ]
  },
  {
   "cell_type": "code",
   "execution_count": 34,
   "metadata": {},
   "outputs": [],
   "source": [
    "import pandas as pd\n",
    "import numpy as np\n",
    "import seaborn as sns\n",
    "import matplotlib.pyplot as plt\n",
    "import warnings\n",
    "warnings.filterwarnings('ignore')"
   ]
  },
  {
   "cell_type": "markdown",
   "metadata": {},
   "source": [
    "Import the CSV Data as Pandas DataFrame"
   ]
  },
  {
   "cell_type": "code",
   "execution_count": 13,
   "metadata": {},
   "outputs": [],
   "source": [
    "df_train=pd.read_csv('data/train_F3fUq2S.csv')\n",
    "df_test=pd.read_csv('data/test_Bk2wfZ3.csv')"
   ]
  },
  {
   "cell_type": "markdown",
   "metadata": {},
   "source": [
    "Show top 5 records"
   ]
  },
  {
   "cell_type": "code",
   "execution_count": 10,
   "metadata": {},
   "outputs": [
    {
     "data": {
      "text/html": [
       "<div>\n",
       "<style scoped>\n",
       "    .dataframe tbody tr th:only-of-type {\n",
       "        vertical-align: middle;\n",
       "    }\n",
       "\n",
       "    .dataframe tbody tr th {\n",
       "        vertical-align: top;\n",
       "    }\n",
       "\n",
       "    .dataframe thead th {\n",
       "        text-align: right;\n",
       "    }\n",
       "</style>\n",
       "<table border=\"1\" class=\"dataframe\">\n",
       "  <thead>\n",
       "    <tr style=\"text-align: right;\">\n",
       "      <th></th>\n",
       "      <th>campaign_id</th>\n",
       "      <th>sender</th>\n",
       "      <th>subject_len</th>\n",
       "      <th>body_len</th>\n",
       "      <th>mean_paragraph_len</th>\n",
       "      <th>day_of_week</th>\n",
       "      <th>is_weekend</th>\n",
       "      <th>times_of_day</th>\n",
       "      <th>category</th>\n",
       "      <th>product</th>\n",
       "      <th>...</th>\n",
       "      <th>is_image</th>\n",
       "      <th>is_personalised</th>\n",
       "      <th>is_quote</th>\n",
       "      <th>is_timer</th>\n",
       "      <th>is_emoticons</th>\n",
       "      <th>is_discount</th>\n",
       "      <th>is_price</th>\n",
       "      <th>is_urgency</th>\n",
       "      <th>target_audience</th>\n",
       "      <th>click_rate</th>\n",
       "    </tr>\n",
       "  </thead>\n",
       "  <tbody>\n",
       "    <tr>\n",
       "      <th>0</th>\n",
       "      <td>1</td>\n",
       "      <td>3</td>\n",
       "      <td>76</td>\n",
       "      <td>10439</td>\n",
       "      <td>39</td>\n",
       "      <td>5</td>\n",
       "      <td>1</td>\n",
       "      <td>Noon</td>\n",
       "      <td>6</td>\n",
       "      <td>26</td>\n",
       "      <td>...</td>\n",
       "      <td>0</td>\n",
       "      <td>0</td>\n",
       "      <td>0</td>\n",
       "      <td>0</td>\n",
       "      <td>0</td>\n",
       "      <td>0</td>\n",
       "      <td>0</td>\n",
       "      <td>0</td>\n",
       "      <td>14</td>\n",
       "      <td>0.103079</td>\n",
       "    </tr>\n",
       "    <tr>\n",
       "      <th>1</th>\n",
       "      <td>2</td>\n",
       "      <td>3</td>\n",
       "      <td>54</td>\n",
       "      <td>2570</td>\n",
       "      <td>256</td>\n",
       "      <td>5</td>\n",
       "      <td>1</td>\n",
       "      <td>Morning</td>\n",
       "      <td>2</td>\n",
       "      <td>11</td>\n",
       "      <td>...</td>\n",
       "      <td>0</td>\n",
       "      <td>0</td>\n",
       "      <td>0</td>\n",
       "      <td>0</td>\n",
       "      <td>0</td>\n",
       "      <td>0</td>\n",
       "      <td>0</td>\n",
       "      <td>0</td>\n",
       "      <td>10</td>\n",
       "      <td>0.700000</td>\n",
       "    </tr>\n",
       "    <tr>\n",
       "      <th>2</th>\n",
       "      <td>3</td>\n",
       "      <td>3</td>\n",
       "      <td>59</td>\n",
       "      <td>12801</td>\n",
       "      <td>16</td>\n",
       "      <td>5</td>\n",
       "      <td>1</td>\n",
       "      <td>Noon</td>\n",
       "      <td>2</td>\n",
       "      <td>11</td>\n",
       "      <td>...</td>\n",
       "      <td>1</td>\n",
       "      <td>0</td>\n",
       "      <td>1</td>\n",
       "      <td>0</td>\n",
       "      <td>0</td>\n",
       "      <td>0</td>\n",
       "      <td>0</td>\n",
       "      <td>0</td>\n",
       "      <td>16</td>\n",
       "      <td>0.002769</td>\n",
       "    </tr>\n",
       "    <tr>\n",
       "      <th>3</th>\n",
       "      <td>4</td>\n",
       "      <td>3</td>\n",
       "      <td>74</td>\n",
       "      <td>11037</td>\n",
       "      <td>30</td>\n",
       "      <td>4</td>\n",
       "      <td>0</td>\n",
       "      <td>Evening</td>\n",
       "      <td>15</td>\n",
       "      <td>9</td>\n",
       "      <td>...</td>\n",
       "      <td>0</td>\n",
       "      <td>0</td>\n",
       "      <td>0</td>\n",
       "      <td>0</td>\n",
       "      <td>0</td>\n",
       "      <td>0</td>\n",
       "      <td>0</td>\n",
       "      <td>0</td>\n",
       "      <td>10</td>\n",
       "      <td>0.010868</td>\n",
       "    </tr>\n",
       "    <tr>\n",
       "      <th>4</th>\n",
       "      <td>5</td>\n",
       "      <td>3</td>\n",
       "      <td>80</td>\n",
       "      <td>10011</td>\n",
       "      <td>27</td>\n",
       "      <td>5</td>\n",
       "      <td>1</td>\n",
       "      <td>Noon</td>\n",
       "      <td>6</td>\n",
       "      <td>26</td>\n",
       "      <td>...</td>\n",
       "      <td>0</td>\n",
       "      <td>0</td>\n",
       "      <td>1</td>\n",
       "      <td>0</td>\n",
       "      <td>0</td>\n",
       "      <td>0</td>\n",
       "      <td>0</td>\n",
       "      <td>0</td>\n",
       "      <td>14</td>\n",
       "      <td>0.142826</td>\n",
       "    </tr>\n",
       "  </tbody>\n",
       "</table>\n",
       "<p>5 rows × 22 columns</p>\n",
       "</div>"
      ],
      "text/plain": [
       "   campaign_id  sender  subject_len  body_len  mean_paragraph_len  \\\n",
       "0            1       3           76     10439                  39   \n",
       "1            2       3           54      2570                 256   \n",
       "2            3       3           59     12801                  16   \n",
       "3            4       3           74     11037                  30   \n",
       "4            5       3           80     10011                  27   \n",
       "\n",
       "   day_of_week  is_weekend times_of_day  category  product  ...  is_image  \\\n",
       "0            5           1         Noon         6       26  ...         0   \n",
       "1            5           1      Morning         2       11  ...         0   \n",
       "2            5           1         Noon         2       11  ...         1   \n",
       "3            4           0      Evening        15        9  ...         0   \n",
       "4            5           1         Noon         6       26  ...         0   \n",
       "\n",
       "   is_personalised  is_quote  is_timer  is_emoticons  is_discount  is_price  \\\n",
       "0                0         0         0             0            0         0   \n",
       "1                0         0         0             0            0         0   \n",
       "2                0         1         0             0            0         0   \n",
       "3                0         0         0             0            0         0   \n",
       "4                0         1         0             0            0         0   \n",
       "\n",
       "   is_urgency  target_audience  click_rate  \n",
       "0           0               14    0.103079  \n",
       "1           0               10    0.700000  \n",
       "2           0               16    0.002769  \n",
       "3           0               10    0.010868  \n",
       "4           0               14    0.142826  \n",
       "\n",
       "[5 rows x 22 columns]"
      ]
     },
     "execution_count": 10,
     "metadata": {},
     "output_type": "execute_result"
    }
   ],
   "source": [
    "df_train.head(5)"
   ]
  },
  {
   "cell_type": "code",
   "execution_count": 18,
   "metadata": {},
   "outputs": [
    {
     "data": {
      "text/html": [
       "<div>\n",
       "<style scoped>\n",
       "    .dataframe tbody tr th:only-of-type {\n",
       "        vertical-align: middle;\n",
       "    }\n",
       "\n",
       "    .dataframe tbody tr th {\n",
       "        vertical-align: top;\n",
       "    }\n",
       "\n",
       "    .dataframe thead th {\n",
       "        text-align: right;\n",
       "    }\n",
       "</style>\n",
       "<table border=\"1\" class=\"dataframe\">\n",
       "  <thead>\n",
       "    <tr style=\"text-align: right;\">\n",
       "      <th></th>\n",
       "      <th>campaign_id</th>\n",
       "      <th>sender</th>\n",
       "      <th>subject_len</th>\n",
       "      <th>body_len</th>\n",
       "      <th>mean_paragraph_len</th>\n",
       "      <th>day_of_week</th>\n",
       "      <th>is_weekend</th>\n",
       "      <th>times_of_day</th>\n",
       "      <th>category</th>\n",
       "      <th>product</th>\n",
       "      <th>...</th>\n",
       "      <th>mean_CTA_len</th>\n",
       "      <th>is_image</th>\n",
       "      <th>is_personalised</th>\n",
       "      <th>is_quote</th>\n",
       "      <th>is_timer</th>\n",
       "      <th>is_emoticons</th>\n",
       "      <th>is_discount</th>\n",
       "      <th>is_price</th>\n",
       "      <th>is_urgency</th>\n",
       "      <th>target_audience</th>\n",
       "    </tr>\n",
       "  </thead>\n",
       "  <tbody>\n",
       "    <tr>\n",
       "      <th>0</th>\n",
       "      <td>1889</td>\n",
       "      <td>3</td>\n",
       "      <td>61</td>\n",
       "      <td>12871</td>\n",
       "      <td>11</td>\n",
       "      <td>6</td>\n",
       "      <td>1</td>\n",
       "      <td>Noon</td>\n",
       "      <td>6</td>\n",
       "      <td>26</td>\n",
       "      <td>...</td>\n",
       "      <td>37</td>\n",
       "      <td>1</td>\n",
       "      <td>0</td>\n",
       "      <td>0</td>\n",
       "      <td>0</td>\n",
       "      <td>1</td>\n",
       "      <td>0</td>\n",
       "      <td>0</td>\n",
       "      <td>0</td>\n",
       "      <td>14</td>\n",
       "    </tr>\n",
       "    <tr>\n",
       "      <th>1</th>\n",
       "      <td>1890</td>\n",
       "      <td>3</td>\n",
       "      <td>54</td>\n",
       "      <td>2569</td>\n",
       "      <td>256</td>\n",
       "      <td>5</td>\n",
       "      <td>1</td>\n",
       "      <td>Morning</td>\n",
       "      <td>2</td>\n",
       "      <td>11</td>\n",
       "      <td>...</td>\n",
       "      <td>22</td>\n",
       "      <td>0</td>\n",
       "      <td>0</td>\n",
       "      <td>0</td>\n",
       "      <td>0</td>\n",
       "      <td>0</td>\n",
       "      <td>0</td>\n",
       "      <td>0</td>\n",
       "      <td>0</td>\n",
       "      <td>10</td>\n",
       "    </tr>\n",
       "    <tr>\n",
       "      <th>2</th>\n",
       "      <td>1891</td>\n",
       "      <td>3</td>\n",
       "      <td>88</td>\n",
       "      <td>1473</td>\n",
       "      <td>78</td>\n",
       "      <td>4</td>\n",
       "      <td>0</td>\n",
       "      <td>Evening</td>\n",
       "      <td>2</td>\n",
       "      <td>11</td>\n",
       "      <td>...</td>\n",
       "      <td>22</td>\n",
       "      <td>1</td>\n",
       "      <td>0</td>\n",
       "      <td>1</td>\n",
       "      <td>0</td>\n",
       "      <td>0</td>\n",
       "      <td>0</td>\n",
       "      <td>0</td>\n",
       "      <td>0</td>\n",
       "      <td>10</td>\n",
       "    </tr>\n",
       "    <tr>\n",
       "      <th>3</th>\n",
       "      <td>1892</td>\n",
       "      <td>3</td>\n",
       "      <td>88</td>\n",
       "      <td>1473</td>\n",
       "      <td>78</td>\n",
       "      <td>3</td>\n",
       "      <td>0</td>\n",
       "      <td>Evening</td>\n",
       "      <td>2</td>\n",
       "      <td>11</td>\n",
       "      <td>...</td>\n",
       "      <td>22</td>\n",
       "      <td>1</td>\n",
       "      <td>0</td>\n",
       "      <td>1</td>\n",
       "      <td>0</td>\n",
       "      <td>0</td>\n",
       "      <td>0</td>\n",
       "      <td>0</td>\n",
       "      <td>0</td>\n",
       "      <td>10</td>\n",
       "    </tr>\n",
       "    <tr>\n",
       "      <th>4</th>\n",
       "      <td>1893</td>\n",
       "      <td>3</td>\n",
       "      <td>78</td>\n",
       "      <td>9020</td>\n",
       "      <td>29</td>\n",
       "      <td>3</td>\n",
       "      <td>0</td>\n",
       "      <td>Noon</td>\n",
       "      <td>6</td>\n",
       "      <td>26</td>\n",
       "      <td>...</td>\n",
       "      <td>40</td>\n",
       "      <td>0</td>\n",
       "      <td>0</td>\n",
       "      <td>0</td>\n",
       "      <td>0</td>\n",
       "      <td>0</td>\n",
       "      <td>0</td>\n",
       "      <td>0</td>\n",
       "      <td>0</td>\n",
       "      <td>14</td>\n",
       "    </tr>\n",
       "  </tbody>\n",
       "</table>\n",
       "<p>5 rows × 21 columns</p>\n",
       "</div>"
      ],
      "text/plain": [
       "   campaign_id  sender  subject_len  body_len  mean_paragraph_len  \\\n",
       "0         1889       3           61     12871                  11   \n",
       "1         1890       3           54      2569                 256   \n",
       "2         1891       3           88      1473                  78   \n",
       "3         1892       3           88      1473                  78   \n",
       "4         1893       3           78      9020                  29   \n",
       "\n",
       "   day_of_week  is_weekend times_of_day  category  product  ...  mean_CTA_len  \\\n",
       "0            6           1         Noon         6       26  ...            37   \n",
       "1            5           1      Morning         2       11  ...            22   \n",
       "2            4           0      Evening         2       11  ...            22   \n",
       "3            3           0      Evening         2       11  ...            22   \n",
       "4            3           0         Noon         6       26  ...            40   \n",
       "\n",
       "   is_image  is_personalised  is_quote  is_timer  is_emoticons  is_discount  \\\n",
       "0         1                0         0         0             1            0   \n",
       "1         0                0         0         0             0            0   \n",
       "2         1                0         1         0             0            0   \n",
       "3         1                0         1         0             0            0   \n",
       "4         0                0         0         0             0            0   \n",
       "\n",
       "   is_price  is_urgency  target_audience  \n",
       "0         0           0               14  \n",
       "1         0           0               10  \n",
       "2         0           0               10  \n",
       "3         0           0               10  \n",
       "4         0           0               14  \n",
       "\n",
       "[5 rows x 21 columns]"
      ]
     },
     "execution_count": 18,
     "metadata": {},
     "output_type": "execute_result"
    }
   ],
   "source": [
    "df_test.head(5)"
   ]
  },
  {
   "cell_type": "markdown",
   "metadata": {},
   "source": [
    "### 3. Data Checks to perform\n",
    "\n",
    "- Check Missing values\n",
    "- Check Duplicates\n",
    "- Check data type\n",
    "- Check the number of unique values of each column\n",
    "- Check statistics of data set"
   ]
  },
  {
   "cell_type": "markdown",
   "metadata": {},
   "source": [
    "### 3.1 Check Missing values"
   ]
  },
  {
   "cell_type": "code",
   "execution_count": 12,
   "metadata": {},
   "outputs": [
    {
     "data": {
      "text/plain": [
       "campaign_id           0\n",
       "sender                0\n",
       "subject_len           0\n",
       "body_len              0\n",
       "mean_paragraph_len    0\n",
       "day_of_week           0\n",
       "is_weekend            0\n",
       "times_of_day          0\n",
       "category              0\n",
       "product               0\n",
       "no_of_CTA             0\n",
       "mean_CTA_len          0\n",
       "is_image              0\n",
       "is_personalised       0\n",
       "is_quote              0\n",
       "is_timer              0\n",
       "is_emoticons          0\n",
       "is_discount           0\n",
       "is_price              0\n",
       "is_urgency            0\n",
       "target_audience       0\n",
       "click_rate            0\n",
       "dtype: int64"
      ]
     },
     "execution_count": 12,
     "metadata": {},
     "output_type": "execute_result"
    }
   ],
   "source": [
    "df_train.isnull().sum()"
   ]
  },
  {
   "cell_type": "code",
   "execution_count": 14,
   "metadata": {},
   "outputs": [
    {
     "data": {
      "text/plain": [
       "campaign_id           0\n",
       "sender                0\n",
       "subject_len           0\n",
       "body_len              0\n",
       "mean_paragraph_len    0\n",
       "day_of_week           0\n",
       "is_weekend            0\n",
       "times_of_day          0\n",
       "category              0\n",
       "product               0\n",
       "no_of_CTA             0\n",
       "mean_CTA_len          0\n",
       "is_image              0\n",
       "is_personalised       0\n",
       "is_quote              0\n",
       "is_timer              0\n",
       "is_emoticons          0\n",
       "is_discount           0\n",
       "is_price              0\n",
       "is_urgency            0\n",
       "target_audience       0\n",
       "dtype: int64"
      ]
     },
     "execution_count": 14,
     "metadata": {},
     "output_type": "execute_result"
    }
   ],
   "source": [
    "df_test.isnull().sum()"
   ]
  },
  {
   "cell_type": "markdown",
   "metadata": {},
   "source": [
    "No null values in both test and train set"
   ]
  },
  {
   "cell_type": "markdown",
   "metadata": {},
   "source": [
    "### 3.2 Check Duplicates"
   ]
  },
  {
   "cell_type": "code",
   "execution_count": 16,
   "metadata": {},
   "outputs": [
    {
     "data": {
      "text/plain": [
       "0"
      ]
     },
     "execution_count": 16,
     "metadata": {},
     "output_type": "execute_result"
    }
   ],
   "source": [
    "df_train.duplicated().sum()"
   ]
  },
  {
   "cell_type": "code",
   "execution_count": 17,
   "metadata": {},
   "outputs": [
    {
     "data": {
      "text/plain": [
       "0"
      ]
     },
     "execution_count": 17,
     "metadata": {},
     "output_type": "execute_result"
    }
   ],
   "source": [
    "df_test.duplicated().sum()"
   ]
  },
  {
   "cell_type": "markdown",
   "metadata": {},
   "source": [
    "No duplicates in both train and test"
   ]
  },
  {
   "cell_type": "markdown",
   "metadata": {},
   "source": [
    "### 3.3 Check data types"
   ]
  },
  {
   "cell_type": "code",
   "execution_count": 19,
   "metadata": {},
   "outputs": [
    {
     "name": "stdout",
     "output_type": "stream",
     "text": [
      "<class 'pandas.core.frame.DataFrame'>\n",
      "RangeIndex: 1888 entries, 0 to 1887\n",
      "Data columns (total 22 columns):\n",
      " #   Column              Non-Null Count  Dtype  \n",
      "---  ------              --------------  -----  \n",
      " 0   campaign_id         1888 non-null   int64  \n",
      " 1   sender              1888 non-null   int64  \n",
      " 2   subject_len         1888 non-null   int64  \n",
      " 3   body_len            1888 non-null   int64  \n",
      " 4   mean_paragraph_len  1888 non-null   int64  \n",
      " 5   day_of_week         1888 non-null   int64  \n",
      " 6   is_weekend          1888 non-null   int64  \n",
      " 7   times_of_day        1888 non-null   object \n",
      " 8   category            1888 non-null   int64  \n",
      " 9   product             1888 non-null   int64  \n",
      " 10  no_of_CTA           1888 non-null   int64  \n",
      " 11  mean_CTA_len        1888 non-null   int64  \n",
      " 12  is_image            1888 non-null   int64  \n",
      " 13  is_personalised     1888 non-null   int64  \n",
      " 14  is_quote            1888 non-null   int64  \n",
      " 15  is_timer            1888 non-null   int64  \n",
      " 16  is_emoticons        1888 non-null   int64  \n",
      " 17  is_discount         1888 non-null   int64  \n",
      " 18  is_price            1888 non-null   int64  \n",
      " 19  is_urgency          1888 non-null   int64  \n",
      " 20  target_audience     1888 non-null   int64  \n",
      " 21  click_rate          1888 non-null   float64\n",
      "dtypes: float64(1), int64(20), object(1)\n",
      "memory usage: 324.6+ KB\n"
     ]
    }
   ],
   "source": [
    "df_train.info()"
   ]
  },
  {
   "cell_type": "code",
   "execution_count": 20,
   "metadata": {},
   "outputs": [
    {
     "name": "stdout",
     "output_type": "stream",
     "text": [
      "<class 'pandas.core.frame.DataFrame'>\n",
      "RangeIndex: 762 entries, 0 to 761\n",
      "Data columns (total 21 columns):\n",
      " #   Column              Non-Null Count  Dtype \n",
      "---  ------              --------------  ----- \n",
      " 0   campaign_id         762 non-null    int64 \n",
      " 1   sender              762 non-null    int64 \n",
      " 2   subject_len         762 non-null    int64 \n",
      " 3   body_len            762 non-null    int64 \n",
      " 4   mean_paragraph_len  762 non-null    int64 \n",
      " 5   day_of_week         762 non-null    int64 \n",
      " 6   is_weekend          762 non-null    int64 \n",
      " 7   times_of_day        762 non-null    object\n",
      " 8   category            762 non-null    int64 \n",
      " 9   product             762 non-null    int64 \n",
      " 10  no_of_CTA           762 non-null    int64 \n",
      " 11  mean_CTA_len        762 non-null    int64 \n",
      " 12  is_image            762 non-null    int64 \n",
      " 13  is_personalised     762 non-null    int64 \n",
      " 14  is_quote            762 non-null    int64 \n",
      " 15  is_timer            762 non-null    int64 \n",
      " 16  is_emoticons        762 non-null    int64 \n",
      " 17  is_discount         762 non-null    int64 \n",
      " 18  is_price            762 non-null    int64 \n",
      " 19  is_urgency          762 non-null    int64 \n",
      " 20  target_audience     762 non-null    int64 \n",
      "dtypes: int64(20), object(1)\n",
      "memory usage: 125.1+ KB\n"
     ]
    }
   ],
   "source": [
    "df_test.info()"
   ]
  },
  {
   "cell_type": "markdown",
   "metadata": {},
   "source": [
    "There is only one Categorical Column and rest are numerical columns in both test and train"
   ]
  },
  {
   "cell_type": "markdown",
   "metadata": {},
   "source": [
    "### 3.4 Checking the number of unique values of each column"
   ]
  },
  {
   "cell_type": "code",
   "execution_count": 21,
   "metadata": {},
   "outputs": [
    {
     "data": {
      "text/plain": [
       "campaign_id           1888\n",
       "sender                  12\n",
       "subject_len            170\n",
       "body_len              1568\n",
       "mean_paragraph_len     121\n",
       "day_of_week              7\n",
       "is_weekend               2\n",
       "times_of_day             3\n",
       "category                16\n",
       "product                 43\n",
       "no_of_CTA               40\n",
       "mean_CTA_len            79\n",
       "is_image                 6\n",
       "is_personalised          2\n",
       "is_quote                 7\n",
       "is_timer                 1\n",
       "is_emoticons             6\n",
       "is_discount              2\n",
       "is_price                 8\n",
       "is_urgency               2\n",
       "target_audience         17\n",
       "click_rate            1810\n",
       "dtype: int64"
      ]
     },
     "execution_count": 21,
     "metadata": {},
     "output_type": "execute_result"
    }
   ],
   "source": [
    "df_train.nunique()"
   ]
  },
  {
   "cell_type": "code",
   "execution_count": 22,
   "metadata": {},
   "outputs": [
    {
     "data": {
      "text/plain": [
       "campaign_id           762\n",
       "sender                 12\n",
       "subject_len           129\n",
       "body_len              697\n",
       "mean_paragraph_len     83\n",
       "day_of_week             7\n",
       "is_weekend              2\n",
       "times_of_day            3\n",
       "category               16\n",
       "product                39\n",
       "no_of_CTA              25\n",
       "mean_CTA_len           59\n",
       "is_image                5\n",
       "is_personalised         2\n",
       "is_quote                6\n",
       "is_timer                1\n",
       "is_emoticons            7\n",
       "is_discount             2\n",
       "is_price                4\n",
       "is_urgency              2\n",
       "target_audience        16\n",
       "dtype: int64"
      ]
     },
     "execution_count": 22,
     "metadata": {},
     "output_type": "execute_result"
    }
   ],
   "source": [
    "df_test.nunique()"
   ]
  },
  {
   "cell_type": "code",
   "execution_count": 27,
   "metadata": {},
   "outputs": [
    {
     "name": "stdout",
     "output_type": "stream",
     "text": [
      "KS Test p-value for subject_len: 0.9621135293565316\n"
     ]
    }
   ],
   "source": [
    "from scipy.stats import ks_2samp\n",
    "\n",
    "# for field in fields_to_compare:\n",
    "_, p_value = ks_2samp(df_train['subject_len'], df_test['subject_len'])\n",
    "print(f\"KS Test p-value for {'subject_len'}: {p_value}\")\n"
   ]
  },
  {
   "cell_type": "markdown",
   "metadata": {},
   "source": [
    "### 3.5 Check statistics of data set"
   ]
  },
  {
   "cell_type": "code",
   "execution_count": 30,
   "metadata": {},
   "outputs": [
    {
     "data": {
      "text/plain": [
       "count    1888.000000\n",
       "mean        0.041888\n",
       "std         0.084223\n",
       "min         0.000000\n",
       "25%         0.005413\n",
       "50%         0.010686\n",
       "75%         0.035589\n",
       "max         0.897959\n",
       "Name: click_rate, dtype: float64"
      ]
     },
     "execution_count": 30,
     "metadata": {},
     "output_type": "execute_result"
    }
   ],
   "source": [
    "df_train['click_rate'].describe()"
   ]
  },
  {
   "cell_type": "markdown",
   "metadata": {},
   "source": [
    "Max Click rate is 89% and Mean click rate 4.1%"
   ]
  },
  {
   "cell_type": "markdown",
   "metadata": {},
   "source": [
    "### 4. Exploring Data ( Visualization )\n",
    "#### 4.1 Visualize average score distribution to make some conclusion. \n",
    "- Histogram\n",
    "- Kernel Distribution Function (KDE)"
   ]
  },
  {
   "cell_type": "code",
   "execution_count": 47,
   "metadata": {},
   "outputs": [
    {
     "name": "stdout",
     "output_type": "stream",
     "text": [
      "[5 6]\n"
     ]
    }
   ],
   "source": [
    "distinct_values = df_train.loc[df_train['is_weekend'] == 1, 'day_of_week'].unique()\n",
    "print(distinct_values)"
   ]
  },
  {
   "cell_type": "markdown",
   "metadata": {},
   "source": [
    "5 and 6 indicate the weekend"
   ]
  },
  {
   "cell_type": "code",
   "execution_count": 56,
   "metadata": {},
   "outputs": [
    {
     "data": {
      "text/plain": [
       "<Axes: xlabel='is_weekend', ylabel='count'>"
      ]
     },
     "execution_count": 56,
     "metadata": {},
     "output_type": "execute_result"
    },
    {
     "data": {
      "image/png": "[encoded data removed]",
      "text/plain": [
       "<Figure size 2200x600 with 3 Axes>"
      ]
     },
     "metadata": {},
     "output_type": "display_data"
    }
   ],
   "source": [
    "plt.figure(figsize=(22,6))\n",
    "\n",
    "plt.subplot(131)\n",
    "sns.countplot(df_train,x='day_of_week',hue='day_of_week')\n",
    "\n",
    "plt.subplot(132)\n",
    "sns.countplot(df_train,x='times_of_day',hue='times_of_day')\n",
    "\n",
    "plt.subplot(133)\n",
    "sns.countplot(df_train,x='is_weekend',hue='is_weekend')"
   ]
  },
  {
   "cell_type": "markdown",
   "metadata": {},
   "source": [
    "Assume that the values 0-6 represent days from Sunday to Saturday. The majority of emails were sent on Wednesday, Tuesday, and Thursday. Additionally, a significant number of emails were sent during the evening, likely when people had more free time. If we categorize 0 as Not a Weekend and 1 as a Weekend, it's observed that most emails were sent on weekdays, with fewer emails sent on weekends.\n",
    "\n"
   ]
  },
  {
   "cell_type": "code",
   "execution_count": 58,
   "metadata": {},
   "outputs": [
    {
     "data": {
      "text/plain": [
       "<Axes: xlabel='is_emoticons', ylabel='count'>"
      ]
     },
     "execution_count": 58,
     "metadata": {},
     "output_type": "execute_result"
    },
    {
     "data": {
      "image/png": "[encoded data removed]",
      "text/plain": [
       "<Figure size 2200x600 with 3 Axes>"
      ]
     },
     "metadata": {},
     "output_type": "display_data"
    }
   ],
   "source": [
    "plt.figure(figsize=(22,6))\n",
    "\n",
    "plt.subplot(131)\n",
    "sns.countplot(df_train,x='is_image',hue='is_image')\n",
    "\n",
    "plt.subplot(132)\n",
    "sns.countplot(df_train,x='is_quote',hue='is_quote')\n",
    "\n",
    "plt.subplot(133)\n",
    "sns.countplot(df_train,x='is_emoticons',hue='is_emoticons')"
   ]
  },
  {
   "cell_type": "markdown",
   "metadata": {},
   "source": [
    "Assuming that the numbers 0 to 6 represent the frequency of certain features in an email, we observe that emails with 0-2 images are more common compared to those with 3-6 images. Similarly, emails with 0-1 quotes are more prevalent, while those with 2-6 quotes are less frequent. Additionally, emails with 0 emojis are more widespread, with occurrences decreasing for emails containing 1-6 emojis.\n",
    "\n"
   ]
  }
 ],
 "metadata": {
  "kernelspec": {
   "display_name": "venv",
   "language": "python",
   "name": "python3"
  },
  "language_info": {
   "codemirror_mode": {
    "name": "ipython",
    "version": 3
   },
   "file_extension": ".py",
   "mimetype": "text/x-python",
   "name": "python",
   "nbconvert_exporter": "python",
   "pygments_lexer": "ipython3",
   "version": "3.10.12"
  }
 },
 "nbformat": 4,
 "nbformat_minor": 2
}
